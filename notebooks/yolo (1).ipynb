{
  "nbformat": 4,
  "nbformat_minor": 0,
  "metadata": {
    "colab": {
      "name": "yolo.ipynb",
      "provenance": [],
      "collapsed_sections": []
    },
    "kernelspec": {
      "name": "python3",
      "display_name": "Python 3"
    },
    "accelerator": "GPU"
  },
  "cells": [
    {
      "cell_type": "markdown",
      "metadata": {
        "id": "KplRCipELDof",
        "colab_type": "text"
      },
      "source": [
        "# **SISTEMA DE INFORMACIÓN SOBRE LA OCUPACIÓN DE BUSES DEL TRANSPORTE PUBLICO.**\n"
      ]
    },
    {
      "cell_type": "markdown",
      "metadata": {
        "id": "XVo7yuzYLhE5",
        "colab_type": "text"
      },
      "source": [
        "El proyecto se enfoca en el desarrollo de un dispositivo inteligente, capaz de determinar el grado de ocupación de los buses de transporte público mediante el uso de técnicas de inteligencia artificial. \n",
        "<p align=\"center\">\n",
        "  <img src=\"https://gitlab.com/IsRaTiAl/v4c/-/raw/master/videos/gifs/track+countv1.gif\">\n",
        "</p>"
      ]
    },
    {
      "cell_type": "markdown",
      "metadata": {
        "id": "B_B5AmnOLIHY",
        "colab_type": "text"
      },
      "source": [
        "Primero configuramos TF versión 1 e instalamos `filterpy`\n",
        "\n"
      ]
    },
    {
      "cell_type": "code",
      "metadata": {
        "id": "nFS1Ctn57y1A",
        "colab_type": "code",
        "outputId": "3810db6c-c55a-4a9d-ed42-e8ac31c9a71c",
        "colab": {
          "base_uri": "https://localhost:8080/",
          "height": 357
        }
      },
      "source": [
        "%tensorflow_version 1.x\n",
        "!pip install filterpy"
      ],
      "execution_count": 1,
      "outputs": [
        {
          "output_type": "stream",
          "text": [
            "TensorFlow 1.x selected.\n",
            "Collecting filterpy\n",
            "\u001b[?25l  Downloading https://files.pythonhosted.org/packages/f6/1d/ac8914360460fafa1990890259b7fa5ef7ba4cd59014e782e4ab3ab144d8/filterpy-1.4.5.zip (177kB)\n",
            "\u001b[K     |████████████████████████████████| 184kB 4.8MB/s \n",
            "\u001b[?25hRequirement already satisfied: numpy in /usr/local/lib/python3.6/dist-packages (from filterpy) (1.18.2)\n",
            "Requirement already satisfied: scipy in /usr/local/lib/python3.6/dist-packages (from filterpy) (1.4.1)\n",
            "Requirement already satisfied: matplotlib in /usr/local/lib/python3.6/dist-packages (from filterpy) (3.2.1)\n",
            "Requirement already satisfied: cycler>=0.10 in /usr/local/lib/python3.6/dist-packages (from matplotlib->filterpy) (0.10.0)\n",
            "Requirement already satisfied: pyparsing!=2.0.4,!=2.1.2,!=2.1.6,>=2.0.1 in /usr/local/lib/python3.6/dist-packages (from matplotlib->filterpy) (2.4.6)\n",
            "Requirement already satisfied: kiwisolver>=1.0.1 in /usr/local/lib/python3.6/dist-packages (from matplotlib->filterpy) (1.1.0)\n",
            "Requirement already satisfied: python-dateutil>=2.1 in /usr/local/lib/python3.6/dist-packages (from matplotlib->filterpy) (2.8.1)\n",
            "Requirement already satisfied: six in /usr/local/lib/python3.6/dist-packages (from cycler>=0.10->matplotlib->filterpy) (1.12.0)\n",
            "Requirement already satisfied: setuptools in /usr/local/lib/python3.6/dist-packages (from kiwisolver>=1.0.1->matplotlib->filterpy) (46.0.0)\n",
            "Building wheels for collected packages: filterpy\n",
            "  Building wheel for filterpy (setup.py) ... \u001b[?25l\u001b[?25hdone\n",
            "  Created wheel for filterpy: filename=filterpy-1.4.5-cp36-none-any.whl size=110451 sha256=8ed2bfecd59018e28cb0b250b5c2b2ef109fcb7a66cfb49ae9e8d5483c88e1ba\n",
            "  Stored in directory: /root/.cache/pip/wheels/c3/0c/dd/e92392c3f38a41371602d99fc77d6c1d42aadbf0c6afccdd02\n",
            "Successfully built filterpy\n",
            "Installing collected packages: filterpy\n",
            "Successfully installed filterpy-1.4.5\n"
          ],
          "name": "stdout"
        }
      ]
    },
    {
      "cell_type": "markdown",
      "metadata": {
        "id": "2hLVZii9pO0F",
        "colab_type": "text"
      },
      "source": [
        "Descargamos [Darkflow](https://github.com/thtrieu/darkflow://) de la implementación de YOLO y los pesos de la versión 2 "
      ]
    },
    {
      "cell_type": "code",
      "metadata": {
        "id": "aUdRXL6Rj6Dc",
        "colab_type": "code",
        "outputId": "f745ef84-c1bc-428c-c323-c43c800dd5d9",
        "colab": {
          "base_uri": "https://localhost:8080/",
          "height": 1000
        }
      },
      "source": [
        "!git clone https://github.com/thtrieu/darkflow.git\n",
        "%cd darkflow\n",
        "!python setup.py build_ext --inplace\n",
        "!pip install -e .\n",
        "!pip install .\n",
        "!mkdir bin\n",
        "!wget  https://pjreddie.com/media/files/yolov2.weights -O bin/yolov2.weights\n",
        "%cd .."
      ],
      "execution_count": 2,
      "outputs": [
        {
          "output_type": "stream",
          "text": [
            "Cloning into 'darkflow'...\n",
            "remote: Enumerating objects: 2713, done.\u001b[K\n",
            "remote: Total 2713 (delta 0), reused 0 (delta 0), pack-reused 2713\u001b[K\n",
            "Receiving objects: 100% (2713/2713), 32.98 MiB | 27.66 MiB/s, done.\n",
            "Resolving deltas: 100% (1762/1762), done.\n",
            "/content/darkflow\n",
            "Compiling darkflow/cython_utils/nms.pyx because it changed.\n",
            "Compiling darkflow/cython_utils/cy_yolo2_findboxes.pyx because it changed.\n",
            "Compiling darkflow/cython_utils/cy_yolo_findboxes.pyx because it changed.\n",
            "[1/3] Cythonizing darkflow/cython_utils/cy_yolo2_findboxes.pyx\n",
            "/usr/local/lib/python3.6/dist-packages/Cython/Compiler/Main.py:369: FutureWarning: Cython directive 'language_level' not set, using 2 for now (Py2). This will change in a later release! File: /content/darkflow/darkflow/cython_utils/cy_yolo2_findboxes.pyx\n",
            "  tree = Parsing.p_module(s, pxd, full_module_name)\n",
            "[2/3] Cythonizing darkflow/cython_utils/cy_yolo_findboxes.pyx\n",
            "/usr/local/lib/python3.6/dist-packages/Cython/Compiler/Main.py:369: FutureWarning: Cython directive 'language_level' not set, using 2 for now (Py2). This will change in a later release! File: /content/darkflow/darkflow/cython_utils/cy_yolo_findboxes.pyx\n",
            "  tree = Parsing.p_module(s, pxd, full_module_name)\n",
            "[3/3] Cythonizing darkflow/cython_utils/nms.pyx\n",
            "/usr/local/lib/python3.6/dist-packages/Cython/Compiler/Main.py:369: FutureWarning: Cython directive 'language_level' not set, using 2 for now (Py2). This will change in a later release! File: /content/darkflow/darkflow/cython_utils/nms.pxd\n",
            "  tree = Parsing.p_module(s, pxd, full_module_name)\n",
            "running build_ext\n",
            "building 'darkflow.cython_utils.nms' extension\n",
            "creating build\n",
            "creating build/temp.linux-x86_64-3.6\n",
            "creating build/temp.linux-x86_64-3.6/darkflow\n",
            "creating build/temp.linux-x86_64-3.6/darkflow/cython_utils\n",
            "x86_64-linux-gnu-gcc -pthread -DNDEBUG -g -fwrapv -O2 -Wall -g -fstack-protector-strong -Wformat -Werror=format-security -Wdate-time -D_FORTIFY_SOURCE=2 -fPIC -I/usr/local/lib/python3.6/dist-packages/numpy/core/include -I/usr/include/python3.6m -c darkflow/cython_utils/nms.c -o build/temp.linux-x86_64-3.6/darkflow/cython_utils/nms.o\n",
            "In file included from \u001b[01m\u001b[K/usr/local/lib/python3.6/dist-packages/numpy/core/include/numpy/ndarraytypes.h:1832:0\u001b[m\u001b[K,\n",
            "                 from \u001b[01m\u001b[K/usr/local/lib/python3.6/dist-packages/numpy/core/include/numpy/ndarrayobject.h:12\u001b[m\u001b[K,\n",
            "                 from \u001b[01m\u001b[K/usr/local/lib/python3.6/dist-packages/numpy/core/include/numpy/arrayobject.h:4\u001b[m\u001b[K,\n",
            "                 from \u001b[01m\u001b[Kdarkflow/cython_utils/nms.c:622\u001b[m\u001b[K:\n",
            "\u001b[01m\u001b[K/usr/local/lib/python3.6/dist-packages/numpy/core/include/numpy/npy_1_7_deprecated_api.h:17:2:\u001b[m\u001b[K \u001b[01;35m\u001b[Kwarning: \u001b[m\u001b[K#warning \"Using deprecated NumPy API, disable it with \" \"#define NPY_NO_DEPRECATED_API NPY_1_7_API_VERSION\" [\u001b[01;35m\u001b[K-Wcpp\u001b[m\u001b[K]\n",
            " #\u001b[01;35m\u001b[Kwarning\u001b[m\u001b[K \"Using deprecated NumPy API, disable it with \" \\\n",
            "  \u001b[01;35m\u001b[K^~~~~~~\u001b[m\u001b[K\n",
            "creating build/lib.linux-x86_64-3.6\n",
            "creating build/lib.linux-x86_64-3.6/darkflow\n",
            "creating build/lib.linux-x86_64-3.6/darkflow/cython_utils\n",
            "x86_64-linux-gnu-gcc -pthread -shared -Wl,-O1 -Wl,-Bsymbolic-functions -Wl,-Bsymbolic-functions -Wl,-z,relro -Wl,-Bsymbolic-functions -Wl,-z,relro -g -fstack-protector-strong -Wformat -Werror=format-security -Wdate-time -D_FORTIFY_SOURCE=2 build/temp.linux-x86_64-3.6/darkflow/cython_utils/nms.o -lm -o build/lib.linux-x86_64-3.6/darkflow/cython_utils/nms.cpython-36m-x86_64-linux-gnu.so\n",
            "building 'darkflow.cython_utils.cy_yolo2_findboxes' extension\n",
            "x86_64-linux-gnu-gcc -pthread -DNDEBUG -g -fwrapv -O2 -Wall -g -fstack-protector-strong -Wformat -Werror=format-security -Wdate-time -D_FORTIFY_SOURCE=2 -fPIC -I/usr/local/lib/python3.6/dist-packages/numpy/core/include -I/usr/include/python3.6m -c darkflow/cython_utils/cy_yolo2_findboxes.c -o build/temp.linux-x86_64-3.6/darkflow/cython_utils/cy_yolo2_findboxes.o\n",
            "In file included from \u001b[01m\u001b[K/usr/local/lib/python3.6/dist-packages/numpy/core/include/numpy/ndarraytypes.h:1832:0\u001b[m\u001b[K,\n",
            "                 from \u001b[01m\u001b[K/usr/local/lib/python3.6/dist-packages/numpy/core/include/numpy/ndarrayobject.h:12\u001b[m\u001b[K,\n",
            "                 from \u001b[01m\u001b[K/usr/local/lib/python3.6/dist-packages/numpy/core/include/numpy/arrayobject.h:4\u001b[m\u001b[K,\n",
            "                 from \u001b[01m\u001b[Kdarkflow/cython_utils/cy_yolo2_findboxes.c:622\u001b[m\u001b[K:\n",
            "\u001b[01m\u001b[K/usr/local/lib/python3.6/dist-packages/numpy/core/include/numpy/npy_1_7_deprecated_api.h:17:2:\u001b[m\u001b[K \u001b[01;35m\u001b[Kwarning: \u001b[m\u001b[K#warning \"Using deprecated NumPy API, disable it with \" \"#define NPY_NO_DEPRECATED_API NPY_1_7_API_VERSION\" [\u001b[01;35m\u001b[K-Wcpp\u001b[m\u001b[K]\n",
            " #\u001b[01;35m\u001b[Kwarning\u001b[m\u001b[K \"Using deprecated NumPy API, disable it with \" \\\n",
            "  \u001b[01;35m\u001b[K^~~~~~~\u001b[m\u001b[K\n",
            "x86_64-linux-gnu-gcc -pthread -shared -Wl,-O1 -Wl,-Bsymbolic-functions -Wl,-Bsymbolic-functions -Wl,-z,relro -Wl,-Bsymbolic-functions -Wl,-z,relro -g -fstack-protector-strong -Wformat -Werror=format-security -Wdate-time -D_FORTIFY_SOURCE=2 build/temp.linux-x86_64-3.6/darkflow/cython_utils/cy_yolo2_findboxes.o -lm -o build/lib.linux-x86_64-3.6/darkflow/cython_utils/cy_yolo2_findboxes.cpython-36m-x86_64-linux-gnu.so\n",
            "building 'darkflow.cython_utils.cy_yolo_findboxes' extension\n",
            "x86_64-linux-gnu-gcc -pthread -DNDEBUG -g -fwrapv -O2 -Wall -g -fstack-protector-strong -Wformat -Werror=format-security -Wdate-time -D_FORTIFY_SOURCE=2 -fPIC -I/usr/local/lib/python3.6/dist-packages/numpy/core/include -I/usr/include/python3.6m -c darkflow/cython_utils/cy_yolo_findboxes.c -o build/temp.linux-x86_64-3.6/darkflow/cython_utils/cy_yolo_findboxes.o\n",
            "In file included from \u001b[01m\u001b[K/usr/local/lib/python3.6/dist-packages/numpy/core/include/numpy/ndarraytypes.h:1832:0\u001b[m\u001b[K,\n",
            "                 from \u001b[01m\u001b[K/usr/local/lib/python3.6/dist-packages/numpy/core/include/numpy/ndarrayobject.h:12\u001b[m\u001b[K,\n",
            "                 from \u001b[01m\u001b[K/usr/local/lib/python3.6/dist-packages/numpy/core/include/numpy/arrayobject.h:4\u001b[m\u001b[K,\n",
            "                 from \u001b[01m\u001b[Kdarkflow/cython_utils/cy_yolo_findboxes.c:622\u001b[m\u001b[K:\n",
            "\u001b[01m\u001b[K/usr/local/lib/python3.6/dist-packages/numpy/core/include/numpy/npy_1_7_deprecated_api.h:17:2:\u001b[m\u001b[K \u001b[01;35m\u001b[Kwarning: \u001b[m\u001b[K#warning \"Using deprecated NumPy API, disable it with \" \"#define NPY_NO_DEPRECATED_API NPY_1_7_API_VERSION\" [\u001b[01;35m\u001b[K-Wcpp\u001b[m\u001b[K]\n",
            " #\u001b[01;35m\u001b[Kwarning\u001b[m\u001b[K \"Using deprecated NumPy API, disable it with \" \\\n",
            "  \u001b[01;35m\u001b[K^~~~~~~\u001b[m\u001b[K\n",
            "x86_64-linux-gnu-gcc -pthread -shared -Wl,-O1 -Wl,-Bsymbolic-functions -Wl,-Bsymbolic-functions -Wl,-z,relro -Wl,-Bsymbolic-functions -Wl,-z,relro -g -fstack-protector-strong -Wformat -Werror=format-security -Wdate-time -D_FORTIFY_SOURCE=2 build/temp.linux-x86_64-3.6/darkflow/cython_utils/cy_yolo_findboxes.o -lm -o build/lib.linux-x86_64-3.6/darkflow/cython_utils/cy_yolo_findboxes.cpython-36m-x86_64-linux-gnu.so\n",
            "copying build/lib.linux-x86_64-3.6/darkflow/cython_utils/nms.cpython-36m-x86_64-linux-gnu.so -> darkflow/cython_utils\n",
            "copying build/lib.linux-x86_64-3.6/darkflow/cython_utils/cy_yolo2_findboxes.cpython-36m-x86_64-linux-gnu.so -> darkflow/cython_utils\n",
            "copying build/lib.linux-x86_64-3.6/darkflow/cython_utils/cy_yolo_findboxes.cpython-36m-x86_64-linux-gnu.so -> darkflow/cython_utils\n",
            "Obtaining file:///content/darkflow\n",
            "Installing collected packages: darkflow\n",
            "  Running setup.py develop for darkflow\n",
            "Successfully installed darkflow\n",
            "Processing /content/darkflow\n",
            "Building wheels for collected packages: darkflow\n",
            "  Building wheel for darkflow (setup.py) ... \u001b[?25l\u001b[?25hdone\n",
            "  Created wheel for darkflow: filename=darkflow-1.0.0-cp36-cp36m-linux_x86_64.whl size=830346 sha256=3eedfdce34de7fadaea23b0855c214374e0d442b44e3d6c9804602b65a41e5ef\n",
            "  Stored in directory: /tmp/pip-ephem-wheel-cache-ldjvgllg/wheels/2f/3a/c5/e84e79d73d5a73aa1b5129a66a40947d9d77a32ebed501e431\n",
            "Successfully built darkflow\n",
            "Installing collected packages: darkflow\n",
            "  Found existing installation: darkflow 1.0.0\n",
            "    Can't uninstall 'darkflow'. No files were found to uninstall.\n",
            "Successfully installed darkflow-1.0.0\n",
            "--2020-03-31 19:50:07--  https://pjreddie.com/media/files/yolov2.weights\n",
            "Resolving pjreddie.com (pjreddie.com)... 128.208.4.108\n",
            "Connecting to pjreddie.com (pjreddie.com)|128.208.4.108|:443... connected.\n",
            "HTTP request sent, awaiting response... 200 OK\n",
            "Length: 203934260 (194M) [application/octet-stream]\n",
            "Saving to: ‘bin/yolov2.weights’\n",
            "\n",
            "bin/yolov2.weights  100%[===================>] 194.49M   359KB/s    in 9m 58s  \n",
            "\n",
            "2020-03-31 20:00:06 (333 KB/s) - ‘bin/yolov2.weights’ saved [203934260/203934260]\n",
            "\n",
            "/content\n"
          ],
          "name": "stdout"
        }
      ]
    },
    {
      "cell_type": "markdown",
      "metadata": {
        "id": "GDZwi3qyJTwF",
        "colab_type": "text"
      },
      "source": [
        "Creamos una copia de nuestro repositorio donde se encuentran algunas librerías necesarias y el People couting dataset [PCDS](https://freesoft.dev/program/128588362)."
      ]
    },
    {
      "cell_type": "code",
      "metadata": {
        "id": "ZlB0CTbhyAZd",
        "colab_type": "code",
        "outputId": "0ffc2931-d810-4620-c486-cdecfc049628",
        "colab": {
          "base_uri": "https://localhost:8080/",
          "height": 136
        }
      },
      "source": [
        "!git clone https://gitlab.com/IsRaTiAl/v4c.git\n",
        "!cp v4c/notebooks/sort.py darkflow/sort.py\n",
        "!cp -r v4c/videos/test darkflow/test_videos"
      ],
      "execution_count": 3,
      "outputs": [
        {
          "output_type": "stream",
          "text": [
            "Cloning into 'v4c'...\n",
            "remote: Enumerating objects: 145, done.\u001b[K\n",
            "remote: Counting objects: 100% (145/145), done.\u001b[K\n",
            "remote: Compressing objects: 100% (97/97), done.\u001b[K\n",
            "remote: Total 145 (delta 58), reused 119 (delta 42), pack-reused 0\u001b[K\n",
            "Receiving objects: 100% (145/145), 288.74 MiB | 33.69 MiB/s, done.\n",
            "Resolving deltas: 100% (58/58), done.\n"
          ],
          "name": "stdout"
        }
      ]
    },
    {
      "cell_type": "markdown",
      "metadata": {
        "id": "0WHOxfGML0Qs",
        "colab_type": "text"
      },
      "source": [
        "Generamos algunos directorios que los emplearemos más adelante"
      ]
    },
    {
      "cell_type": "code",
      "metadata": {
        "id": "L0Bzu5kepYky",
        "colab_type": "code",
        "outputId": "2f6f7ead-393f-43e4-bd1b-0abb0e5f3b36",
        "colab": {
          "base_uri": "https://localhost:8080/",
          "height": 1000
        }
      },
      "source": [
        "%cd darkflow/\n",
        "!mkdir test_videos/front test_videos/front/crowd test_videos/front/uncrowd \n",
        "!mkdir test_videos/back test_videos/back/crowd test_videos/back/uncrowd \n",
        "\n",
        "!unrar e test_videos/crowd_day_back.rar test_videos/back/crowd\n",
        "!unrar e test_videos/uncrowd_day_back.rar test_videos/back/uncrowd\n",
        "!unrar e test_videos/crowd_day_front.rar test_videos/front/crowd\n",
        "!unrar e test_videos/uncrowd_day_front.rar test_videos/front/uncrowd\n",
        "\n",
        "!mkdir outputs/\n",
        "!mkdir outputs/front outputs/front/crowd outputs/front/uncrowd \n",
        "!mkdir outputs/back outputs/back/crowd outputs/back/uncrowd"
      ],
      "execution_count": 4,
      "outputs": [
        {
          "output_type": "stream",
          "text": [
            "/content/darkflow\n",
            "\n",
            "UNRAR 5.50 freeware      Copyright (c) 1993-2017 Alexander Roshal\n",
            "\n",
            "\n",
            "Extracting from test_videos/crowd_day_back.rar\n",
            "\n",
            "Extracting  test_videos/back/crowd/2016_04_07_08_23_45BackColor.avi_red.avi     \b\b\b\b 10%\b\b\b\b 13%\b\b\b\b\b  OK \n",
            "Extracting  test_videos/back/crowd/2016_04_07_08_02_36BackColor.avi_red.avi     \b\b\b\b 24%\b\b\b\b 28%\b\b\b\b\b  OK \n",
            "Extracting  test_videos/back/crowd/2016_04_07_07_43_03BackColor.avi_red.avi     \b\b\b\b 35%\b\b\b\b\b  OK \n",
            "Extracting  test_videos/back/crowd/2016_04_07_07_26_50BackColor.avi_red.avi     \b\b\b\b 42%\b\b\b\b\b  OK \n",
            "Extracting  test_videos/back/crowd/2016_04_07_08_29_20BackColor.avi_red.avi     \b\b\b\b 51%\b\b\b\b\b  OK \n",
            "Extracting  test_videos/back/crowd/2016_04_07_07_11_10BackColor.avi_red.avi     \b\b\b\b 58%\b\b\b\b\b  OK \n",
            "Extracting  test_videos/back/crowd/2016_04_07_07_22_10BackColor.avi_red.avi     \b\b\b\b 67%\b\b\b\b\b  OK \n",
            "Extracting  test_videos/back/crowd/2016_04_07_08_16_23BackColor.avi_red.avi     \b\b\b\b 77%\b\b\b\b\b  OK \n",
            "Extracting  test_videos/back/crowd/2016_04_07_07_19_24BackColor.avi_red.avi     \b\b\b\b 87%\b\b\b\b\b  OK \n",
            "Extracting  test_videos/back/crowd/2016_04_07_08_19_48BackColor.avi_red.avi     \b\b\b\b 98%\b\b\b\b 99%\b\b\b\b\b  OK \n",
            "All OK\n",
            "\n",
            "UNRAR 5.50 freeware      Copyright (c) 1993-2017 Alexander Roshal\n",
            "\n",
            "\n",
            "Extracting from test_videos/uncrowd_day_back.rar\n",
            "\n",
            "Extracting  test_videos/back/uncrowd/2016_04_07_07_13_40BackColor.avi_red.avi     \b\b\b\b  9%\b\b\b\b\b  OK \n",
            "Extracting  test_videos/back/uncrowd/2016_04_07_07_15_47BackColor.avi_red.avi     \b\b\b\b 17%\b\b\b\b\b  OK \n",
            "Extracting  test_videos/back/uncrowd/2016_04_07_07_17_06BackColor.avi_red.avi     \b\b\b\b 30%\b\b\b\b\b  OK \n",
            "Extracting  test_videos/back/uncrowd/2016_04_07_07_30_45BackColor.avi_red.avi     \b\b\b\b 44%\b\b\b\b\b  OK \n",
            "Extracting  test_videos/back/uncrowd/2016_04_07_07_32_39BackColor.avi_red.avi     \b\b\b\b 55%\b\b\b\b\b  OK \n",
            "Extracting  test_videos/back/uncrowd/2016_04_07_07_48_06BackColor.avi_red.avi     \b\b\b\b 66%\b\b\b\b\b  OK \n",
            "Extracting  test_videos/back/uncrowd/2016_04_07_08_04_57BackColor.avi_red.avi     \b\b\b\b 76%\b\b\b\b\b  OK \n",
            "Extracting  test_videos/back/uncrowd/2016_04_07_08_15_14BackColor.avi_red.avi     \b\b\b\b 87%\b\b\b\b\b  OK \n",
            "Extracting  test_videos/back/uncrowd/2016_04_07_08_17_51BackColor.avi_red.avi     \b\b\b\b 99%\b\b\b\b\b  OK \n",
            "All OK\n",
            "\n",
            "UNRAR 5.50 freeware      Copyright (c) 1993-2017 Alexander Roshal\n",
            "\n",
            "\n",
            "Extracting from test_videos/crowd_day_front.rar\n",
            "\n",
            "Extracting  test_videos/front/crowd/2016_04_07_07_13_38FrontColor_red.avi     \b\b\b\b  4%\b\b\b\b  8%\b\b\b\b\b  OK \n",
            "Extracting  test_videos/front/crowd/2016_04_07_08_01_11FrontColor_red.avi     \b\b\b\b 13%\b\b\b\b 18%\b\b\b\b 19%\b\b\b\b\b  OK \n",
            "Extracting  test_videos/front/crowd/2016_04_07_16_03_49FrontColor_red.avi     \b\b\b\b 24%\b\b\b\b 29%\b\b\b\b 34%\b\b\b\b\b  OK \n",
            "Extracting  test_videos/front/crowd/2016_04_07_14_37_58FrontColor_red.avi     \b\b\b\b 38%\b\b\b\b 43%\b\b\b\b 48%\b\b\b\b 53%\b\b\b\b 58%\b\b\b\b 63%\b\b\b\b 65%\b\b\b\b\b  OK \n",
            "Extracting  test_videos/front/crowd/2016_04_07_07_32_42FrontColor_red.avi     \b\b\b\b 67%\b\b\b\b\b  OK \n",
            "Extracting  test_videos/front/crowd/2016_04_07_07_09_58FrontColor_red.avi     \b\b\b\b 72%\b\b\b\b\b  OK \n",
            "Extracting  test_videos/front/crowd/2016_04_07_08_45_44FrontColor_red.avi     \b\b\b\b 77%\b\b\b\b 78%\b\b\b\b\b  OK \n",
            "Extracting  test_videos/front/crowd/2016_04_07_08_48_35FrontColor_red.avi     \b\b\b\b 82%\b\b\b\b 85%\b\b\b\b\b  OK \n",
            "Extracting  test_videos/front/crowd/2016_04_07_08_47_18FrontColor_red.avi     \b\b\b\b 90%\b\b\b\b 91%\b\b\b\b\b  OK \n",
            "Extracting  test_videos/front/crowd/2016_04_07_16_06_09FrontColor_red.avi     \b\b\b\b 96%\b\b\b\b 99%\b\b\b\b\b  OK \n",
            "All OK\n",
            "\n",
            "UNRAR 5.50 freeware      Copyright (c) 1993-2017 Alexander Roshal\n",
            "\n",
            "\n",
            "Extracting from test_videos/uncrowd_day_front.rar\n",
            "\n",
            "Extracting  test_videos/front/uncrowd/2016_04_07_07_12_02FrontColor_red.avi     \b\b\b\b 10%\b\b\b\b\b  OK \n",
            "Extracting  test_videos/front/uncrowd/2016_04_07_07_30_45FrontColor_red.avi     \b\b\b\b 23%\b\b\b\b\b  OK \n",
            "Extracting  test_videos/front/uncrowd/2016_04_07_07_10_19FrontColor_red.avi     \b\b\b\b 37%\b\b\b\b 51%\b\b\b\b 53%\b\b\b\b\b  OK \n",
            "Extracting  test_videos/front/uncrowd/2016_04_07_07_08_43FrontColor_red.avi     \b\b\b\b 58%\b\b\b\b\b  OK \n",
            "Extracting  test_videos/front/uncrowd/2016_04_07_11_58_20FrontColor_red.avi     \b\b\b\b 63%\b\b\b\b\b  OK \n",
            "Extracting  test_videos/front/uncrowd/2016_04_07_11_58_39FrontColor_red.avi     \b\b\b\b 67%\b\b\b\b\b  OK \n",
            "Extracting  test_videos/front/uncrowd/2016_04_07_06_42_46FrontColor_red.avi     \b\b\b\b 73%\b\b\b\b\b  OK \n",
            "Extracting  test_videos/front/uncrowd/2016_04_07_06_52_02FrontColor_red.avi     \b\b\b\b 82%\b\b\b\b\b  OK \n",
            "Extracting  test_videos/front/uncrowd/2016_04_07_07_39_11FrontColor_red.avi     \b\b\b\b 90%\b\b\b\b\b  OK \n",
            "Extracting  test_videos/front/uncrowd/2016_04_07_07_35_43FrontColor_red.avi     \b\b\b\b 99%\b\b\b\b\b  OK \n",
            "All OK\n"
          ],
          "name": "stdout"
        }
      ]
    },
    {
      "cell_type": "code",
      "metadata": {
        "id": "VRh6tPnuz4SL",
        "colab_type": "code",
        "colab": {}
      },
      "source": [
        "# !python flow --model cfg/yolo.cfg --load bin/yolov2.weights --demo 2015_05_08_08_27_20BackColor.avi --gpu 1.0 --saveVideo"
      ],
      "execution_count": 0,
      "outputs": []
    },
    {
      "cell_type": "markdown",
      "metadata": {
        "id": "5_s-Ls3_MzhW",
        "colab_type": "text"
      },
      "source": [
        "Importamos algunas las librerias `cv2`, `matplotlib`, `numpy` y `os` para la vision artificial, manejo de graficas, matrices y archivos respectivamente. Adicionalmente, importamos `TFNet` y `sort` para la detección y seguimiento de las personas."
      ]
    },
    {
      "cell_type": "code",
      "metadata": {
        "id": "uGSmmkkC2Zy_",
        "colab_type": "code",
        "outputId": "8b7e3f81-6330-4185-e9f4-01b6df51f273",
        "colab": {
          "base_uri": "https://localhost:8080/",
          "height": 479
        }
      },
      "source": [
        "import cv2\n",
        "import matplotlib.pyplot as plt\n",
        "import numpy as np\n",
        "import os\n",
        "from darkflow.net.build import TFNet\n",
        "from sort import *"
      ],
      "execution_count": 6,
      "outputs": [
        {
          "output_type": "stream",
          "text": [
            "WARNING:tensorflow:\n",
            "The TensorFlow contrib module will not be included in TensorFlow 2.0.\n",
            "For more information, please see:\n",
            "  * https://github.com/tensorflow/community/blob/master/rfcs/20180907-contrib-sunset.md\n",
            "  * https://github.com/tensorflow/addons\n",
            "  * https://github.com/tensorflow/io (for I/O related ops)\n",
            "If you depend on functionality not listed there, please file an issue.\n",
            "\n",
            "WARNING:tensorflow:From /content/darkflow/darkflow/net/build.py:15: The name tf.train.RMSPropOptimizer is deprecated. Please use tf.compat.v1.train.RMSPropOptimizer instead.\n",
            "\n",
            "WARNING:tensorflow:From /content/darkflow/darkflow/net/build.py:16: The name tf.train.AdadeltaOptimizer is deprecated. Please use tf.compat.v1.train.AdadeltaOptimizer instead.\n",
            "\n",
            "WARNING:tensorflow:From /content/darkflow/darkflow/net/build.py:17: The name tf.train.AdagradOptimizer is deprecated. Please use tf.compat.v1.train.AdagradOptimizer instead.\n",
            "\n",
            "WARNING:tensorflow:From /content/darkflow/darkflow/net/build.py:18: The name tf.train.AdagradDAOptimizer is deprecated. Please use tf.compat.v1.train.AdagradDAOptimizer instead.\n",
            "\n",
            "WARNING:tensorflow:From /content/darkflow/darkflow/net/build.py:19: The name tf.train.MomentumOptimizer is deprecated. Please use tf.compat.v1.train.MomentumOptimizer instead.\n",
            "\n",
            "WARNING:tensorflow:From /content/darkflow/darkflow/net/build.py:20: The name tf.train.AdamOptimizer is deprecated. Please use tf.compat.v1.train.AdamOptimizer instead.\n",
            "\n",
            "WARNING:tensorflow:From /content/darkflow/darkflow/net/build.py:21: The name tf.train.FtrlOptimizer is deprecated. Please use tf.compat.v1.train.FtrlOptimizer instead.\n",
            "\n",
            "WARNING:tensorflow:From /content/darkflow/darkflow/net/build.py:22: The name tf.train.GradientDescentOptimizer is deprecated. Please use tf.compat.v1.train.GradientDescentOptimizer instead.\n",
            "\n"
          ],
          "name": "stdout"
        },
        {
          "output_type": "stream",
          "text": [
            "/usr/local/lib/python3.6/dist-packages/sklearn/utils/linear_assignment_.py:22: FutureWarning: The linear_assignment_ module is deprecated in 0.21 and will be removed from 0.23. Use scipy.optimize.linear_sum_assignment instead.\n",
            "  FutureWarning)\n"
          ],
          "name": "stderr"
        }
      ]
    },
    {
      "cell_type": "markdown",
      "metadata": {
        "id": "sLU2lJETPPkT",
        "colab_type": "text"
      },
      "source": [
        "Instanciamos el objeto tfnet y le pasamos los parámetros  options, donde se especifican el modelo, los pesos, el umbral de detección y habilitamos el uso de la GPU."
      ]
    },
    {
      "cell_type": "code",
      "metadata": {
        "id": "VhIssRePPP4K",
        "colab_type": "code",
        "colab": {
          "base_uri": "https://localhost:8080/",
          "height": 1000
        },
        "outputId": "80364b49-7dc4-4c33-c608-24b658533409"
      },
      "source": [
        "options = {\"model\": \"cfg/yolo.cfg\", \"load\": \"bin/yolov2.weights\", \"threshold\": 0.20, 'gpu':1}\n",
        "tfnet = TFNet(options)\n",
        "\n",
        "# imgcv = cv2.imread(\"f2.jpg\")\n",
        "# result = tfnet.return_predict(imgcv)\n",
        "# print(result)"
      ],
      "execution_count": 7,
      "outputs": [
        {
          "output_type": "stream",
          "text": [
            "Parsing cfg/yolo.cfg\n",
            "Loading bin/yolov2.weights ...\n",
            "Successfully identified 203934260 bytes\n",
            "Finished in 0.015497684478759766s\n",
            "Model has a coco model name, loading coco labels.\n",
            "\n",
            "Building net ...\n",
            "WARNING:tensorflow:From /content/darkflow/darkflow/net/build.py:105: The name tf.placeholder is deprecated. Please use tf.compat.v1.placeholder instead.\n",
            "\n",
            "Source | Train? | Layer description                | Output size\n",
            "-------+--------+----------------------------------+---------------\n",
            "WARNING:tensorflow:From /content/darkflow/darkflow/net/ops/baseop.py:70: The name tf.variable_scope is deprecated. Please use tf.compat.v1.variable_scope instead.\n",
            "\n",
            "WARNING:tensorflow:From /content/darkflow/darkflow/net/ops/baseop.py:71: The name tf.get_variable is deprecated. Please use tf.compat.v1.get_variable instead.\n",
            "\n",
            "WARNING:tensorflow:From /content/darkflow/darkflow/net/ops/baseop.py:84: The name tf.placeholder_with_default is deprecated. Please use tf.compat.v1.placeholder_with_default instead.\n",
            "\n",
            "       |        | input                            | (?, 608, 608, 3)\n",
            " Load  |  Yep!  | conv 3x3p1_1  +bnorm  leaky      | (?, 608, 608, 32)\n",
            "WARNING:tensorflow:From /content/darkflow/darkflow/net/ops/simple.py:106: The name tf.nn.max_pool is deprecated. Please use tf.nn.max_pool2d instead.\n",
            "\n"
          ],
          "name": "stdout"
        },
        {
          "output_type": "stream",
          "text": [
            "/content/darkflow/darkflow/dark/darknet.py:54: UserWarning: ./cfg/yolov2.cfg not found, use cfg/yolo.cfg instead\n",
            "  cfg_path, FLAGS.model))\n"
          ],
          "name": "stderr"
        },
        {
          "output_type": "stream",
          "text": [
            " Load  |  Yep!  | maxp 2x2p0_2                     | (?, 304, 304, 32)\n",
            " Load  |  Yep!  | conv 3x3p1_1  +bnorm  leaky      | (?, 304, 304, 64)\n",
            " Load  |  Yep!  | maxp 2x2p0_2                     | (?, 152, 152, 64)\n",
            " Load  |  Yep!  | conv 3x3p1_1  +bnorm  leaky      | (?, 152, 152, 128)\n",
            " Load  |  Yep!  | conv 1x1p0_1  +bnorm  leaky      | (?, 152, 152, 64)\n",
            " Load  |  Yep!  | conv 3x3p1_1  +bnorm  leaky      | (?, 152, 152, 128)\n",
            " Load  |  Yep!  | maxp 2x2p0_2                     | (?, 76, 76, 128)\n",
            " Load  |  Yep!  | conv 3x3p1_1  +bnorm  leaky      | (?, 76, 76, 256)\n",
            " Load  |  Yep!  | conv 1x1p0_1  +bnorm  leaky      | (?, 76, 76, 128)\n",
            " Load  |  Yep!  | conv 3x3p1_1  +bnorm  leaky      | (?, 76, 76, 256)\n",
            " Load  |  Yep!  | maxp 2x2p0_2                     | (?, 38, 38, 256)\n",
            " Load  |  Yep!  | conv 3x3p1_1  +bnorm  leaky      | (?, 38, 38, 512)\n",
            " Load  |  Yep!  | conv 1x1p0_1  +bnorm  leaky      | (?, 38, 38, 256)\n",
            " Load  |  Yep!  | conv 3x3p1_1  +bnorm  leaky      | (?, 38, 38, 512)\n",
            " Load  |  Yep!  | conv 1x1p0_1  +bnorm  leaky      | (?, 38, 38, 256)\n",
            " Load  |  Yep!  | conv 3x3p1_1  +bnorm  leaky      | (?, 38, 38, 512)\n",
            " Load  |  Yep!  | maxp 2x2p0_2                     | (?, 19, 19, 512)\n",
            " Load  |  Yep!  | conv 3x3p1_1  +bnorm  leaky      | (?, 19, 19, 1024)\n",
            " Load  |  Yep!  | conv 1x1p0_1  +bnorm  leaky      | (?, 19, 19, 512)\n",
            " Load  |  Yep!  | conv 3x3p1_1  +bnorm  leaky      | (?, 19, 19, 1024)\n",
            " Load  |  Yep!  | conv 1x1p0_1  +bnorm  leaky      | (?, 19, 19, 512)\n",
            " Load  |  Yep!  | conv 3x3p1_1  +bnorm  leaky      | (?, 19, 19, 1024)\n",
            " Load  |  Yep!  | conv 3x3p1_1  +bnorm  leaky      | (?, 19, 19, 1024)\n",
            " Load  |  Yep!  | conv 3x3p1_1  +bnorm  leaky      | (?, 19, 19, 1024)\n",
            " Load  |  Yep!  | concat [16]                      | (?, 38, 38, 512)\n",
            " Load  |  Yep!  | conv 1x1p0_1  +bnorm  leaky      | (?, 38, 38, 64)\n",
            "WARNING:tensorflow:From /content/darkflow/darkflow/net/ops/convolution.py:28: calling extract_image_patches (from tensorflow.python.ops.array_ops) with ksizes is deprecated and will be removed in a future version.\n",
            "Instructions for updating:\n",
            "ksizes is deprecated, use sizes instead\n",
            " Load  |  Yep!  | local flatten 2x2                | (?, 19, 19, 256)\n",
            " Load  |  Yep!  | concat [27, 24]                  | (?, 19, 19, 1280)\n",
            " Load  |  Yep!  | conv 3x3p1_1  +bnorm  leaky      | (?, 19, 19, 1024)\n",
            " Load  |  Yep!  | conv 1x1p0_1    linear           | (?, 19, 19, 425)\n",
            "-------+--------+----------------------------------+---------------\n",
            "GPU mode with 1 usage\n",
            "WARNING:tensorflow:From /content/darkflow/darkflow/net/build.py:132: The name tf.GPUOptions is deprecated. Please use tf.compat.v1.GPUOptions instead.\n",
            "\n",
            "WARNING:tensorflow:From /content/darkflow/darkflow/net/build.py:145: The name tf.Session is deprecated. Please use tf.compat.v1.Session instead.\n",
            "\n",
            "WARNING:tensorflow:From /content/darkflow/darkflow/net/build.py:145: The name tf.ConfigProto is deprecated. Please use tf.compat.v1.ConfigProto instead.\n",
            "\n",
            "WARNING:tensorflow:From /content/darkflow/darkflow/net/build.py:146: The name tf.global_variables_initializer is deprecated. Please use tf.compat.v1.global_variables_initializer instead.\n",
            "\n",
            "WARNING:tensorflow:From /content/darkflow/darkflow/net/build.py:149: The name tf.train.Saver is deprecated. Please use tf.compat.v1.train.Saver instead.\n",
            "\n",
            "WARNING:tensorflow:From /content/darkflow/darkflow/net/build.py:149: The name tf.global_variables is deprecated. Please use tf.compat.v1.global_variables instead.\n",
            "\n",
            "Finished in 10.151350498199463s\n",
            "\n"
          ],
          "name": "stdout"
        }
      ]
    },
    {
      "cell_type": "markdown",
      "metadata": {
        "id": "q_c2lROlQfGU",
        "colab_type": "text"
      },
      "source": [
        "Definimos las funciones:\n",
        "- `bounbox`: la cual nos permiten generar los recuadros que denotan la deteccion.\n",
        "- `intersect` y `ccw`: las cuales nos permiter detectar cuando una persona cruza un determinado umbral."
      ]
    },
    {
      "cell_type": "code",
      "metadata": {
        "id": "8ELFMy-UFD5p",
        "colab_type": "code",
        "colab": {}
      },
      "source": [
        "def bounbox(imgcv, box):\n",
        "  for box in result:\n",
        "    if(box['label']=='person'):\n",
        "      x1,y1,x2,y2 = box['topleft']['x'],box['topleft']['y'],box['bottomright']['x'],box['bottomright']['y']\n",
        "      cx, cy = x1+int((x2-x1)/2), y1+int((y2-y1)/2)\n",
        "      conf = box['confidence']\n",
        "      label = box['label']\n",
        "      cv2.rectangle(imgcv,(x1,y1),(x2,y2),(0,255,0),2)\n",
        "      labelSize=cv2.getTextSize(label,cv2.FONT_HERSHEY_COMPLEX,0.5,1)\n",
        "      confSize=cv2.getTextSize(label,cv2.FONT_HERSHEY_COMPLEX,0.5,1)\n",
        "      _x1 = x1\n",
        "      _y1 = y1#+int(labelSize[0][1]/2)\n",
        "      _x2 = _x1+labelSize[0][0]\n",
        "      _y2 = y1-int(labelSize[0][1])\n",
        "      cv2.rectangle(imgcv,(_x1,_y1),(_x2,_y2),(0,255,0),cv2.FILLED)\n",
        "      cv2.putText(imgcv,label,(x1,y1),cv2.FONT_HERSHEY_COMPLEX,0.5,(0,0,0),1)\n",
        "      cv2.rectangle(imgcv,(_x1,_y1+14),(_x2,_y2+14),(0,255,0),cv2.FILLED)\n",
        "      cv2.putText(imgcv,str(round(conf,2)),(x1,y1+14),cv2.FONT_HERSHEY_COMPLEX,0.5,(0,0,0),1)\n",
        "      cv2.circle(imgcv,(cx,cy), 5, (0,0,255), -1)\n",
        "  return imgcv\n",
        "\n",
        "def intersect(A,B,C,D):\n",
        "\treturn ccw(A,C,D) != ccw(B,C,D) and ccw(A,B,C) != ccw(A,B,D)\n",
        "def ccw(A,B,C):\n",
        "  return (C[1]-A[1]) * (B[0]-A[0])> (B[1]-A[1]) * (C[0]-A[0])"
      ],
      "execution_count": 0,
      "outputs": []
    },
    {
      "cell_type": "code",
      "metadata": {
        "id": "jF3JoHQP209r",
        "colab_type": "code",
        "colab": {}
      },
      "source": [
        "directory = \"/content/darkflow/test_videos/\"\n",
        "output_directory = \"/content/darkflow/outputs/\"\n",
        "ubication = 'back/'\n",
        "amount    = 'uncrowd/'\n",
        "paths = os.listdir(directory+ubication+amount)\n",
        "\n",
        "line = [(0, 100), (320, 100)]\n",
        "np.random.seed(42)\n",
        "COLORS = np.random.randint(0, 255, size=(200, 3),\tdtype=\"uint8\")"
      ],
      "execution_count": 0,
      "outputs": []
    },
    {
      "cell_type": "code",
      "metadata": {
        "id": "MATUyzAH4SIW",
        "colab_type": "code",
        "outputId": "768509d6-cd66-41ea-f281-de7d1eda4ca1",
        "colab": {
          "base_uri": "https://localhost:8080/",
          "height": 241
        }
      },
      "source": [
        "for path in paths:\n",
        "  print(path)\n",
        "  mot_tracker = Sort()\n",
        "  # capture = cv2.VideoCapture('2016_04_07_08_15_14BackColor.avi')\n",
        "  capture = cv2.VideoCapture(directory+ubication+amount+path)\n",
        "\n",
        "  ret, frame = capture.read()\n",
        "  frame_height,frame_width,_ = frame.shape\n",
        "  fourcc = cv2.VideoWriter_fourcc(*'XVID')\n",
        "  out = cv2.VideoWriter(output_directory+ubication+amount+path,fourcc, 20, (frame_width,frame_height))\n",
        "\n",
        "  mem = {}\n",
        "  ret = True\n",
        "  count = 0\n",
        "  counter = 0\n",
        "  previous = {}\n",
        "  while(ret):\n",
        "    ret, frame = capture.read()\n",
        "    if(ret):\n",
        "      # frame = cv2.cvtColor(frame, cv2.COLOR_BGR2RGB)\n",
        "      result = tfnet.return_predict(frame)\n",
        "\n",
        "      dets = []\n",
        "      if len(result) > 0:\n",
        "          # loop over the indexes we are keeping\n",
        "          for res in result:\n",
        "            if(res['label']=='person'):\n",
        "              (x1,y1)=(res['topleft']['x'], res['topleft']['y'])\n",
        "              (x2,y2)=(res['bottomright']['x'], res['bottomright']['y'])\n",
        "              dets.append([x1, y1, x2, y2, res['confidence']])\n",
        "      dets = np.asarray(dets)\n",
        "      tracks = mot_tracker.update(dets)\n",
        "\n",
        "      boxes = []\n",
        "      indexIDs = []\n",
        "      c = []\n",
        "      previous = mem.copy()\n",
        "      mem = {}\n",
        "      for track in tracks:\n",
        "        boxes.append([track[0], track[1], track[2], track[3]])\n",
        "        indexIDs.append(int(track[4]))\n",
        "        mem[indexIDs[-1]] = boxes[-1]\n",
        "\n",
        "      if len(boxes) > 0:\n",
        "        i = int(0)\n",
        "        for box in boxes:\n",
        "          # extract the bounding box coordinates\n",
        "          (x, y) = (int(box[0]), int(box[1]))\n",
        "          (w, h) = (int(box[2]), int(box[3]))\n",
        "\n",
        "          color = [int(c) for c in COLORS[indexIDs[i] % len(COLORS)]]\n",
        "          cv2.rectangle(frame, (x, y), (w, h), color, 2)\n",
        "          # print(indexIDs)\n",
        "          if indexIDs[i] in previous:\n",
        "            previous_box = previous[indexIDs[i]]\n",
        "            (x2, y2) = (int(previous_box[0]), int(previous_box[1]))\n",
        "            (w2, h2) = (int(previous_box[2]), int(previous_box[3]))\n",
        "            p0 = (int(x + (w-x)/2), int(y + (h-y)/2))\n",
        "            p1 = (int(x2 + (w2-x2)/2), int(y2 + (h2-y2)/2))\n",
        "            cv2.line(frame, p0, p1, color, 10)\n",
        "            if intersect(p0, p1, line[0], line[1]):\n",
        "              # print(i)\n",
        "              # print(np.sum(np.square(np.array(p1)-np.array(p0))))\n",
        "              # print(indexIDs[i])\n",
        "              # if(np.sum(np.square(np.array(p1)-np.array(p0)))>25):\n",
        "                counter += 1\n",
        "\n",
        "          # text = \"{}: {:.4f}\".format(LABELS[classIDs[i]], confidences[i])\n",
        "          # text = \"{}\".format(indexIDs[i])\n",
        "          # cv2.putText(frame, text, (x, y - 5), cv2.FONT_HERSHEY_SIMPLEX, 0.5, color, 2)\n",
        "          i += 1\n",
        "\n",
        "      # draw line\n",
        "      cv2.line(frame, line[0], line[1], (0, 255, 255), 2)\n",
        "\n",
        "      # draw counter\n",
        "      cv2.putText(frame, str(counter), (300,20), cv2.FONT_HERSHEY_SIMPLEX, 0.5, (0, 255, 255), 2)\n",
        "      # counter += 1\n",
        "\n",
        "\n",
        "      # if(len(result)>0):\n",
        "        # frame = bounbox(frame,result)\n",
        "      out.write(frame)\n",
        "      # if(count%10==0):\n",
        "      #   plt.imshow(frame)\n",
        "      #   plt.show()\n",
        "      count+=1\n",
        "\n",
        "    # if(count>500):\n",
        "      # ret = False\n",
        "\n",
        "  capture.release()\n",
        "  out.release()"
      ],
      "execution_count": 19,
      "outputs": [
        {
          "output_type": "stream",
          "text": [
            "2016_04_07_08_47_18FrontColor_red.avi\n"
          ],
          "name": "stdout"
        },
        {
          "output_type": "stream",
          "text": [
            "/usr/local/lib/python3.6/dist-packages/sklearn/utils/linear_assignment_.py:128: FutureWarning: The linear_assignment function is deprecated in 0.21 and will be removed from 0.23. Use scipy.optimize.linear_sum_assignment instead.\n",
            "  FutureWarning)\n"
          ],
          "name": "stderr"
        },
        {
          "output_type": "stream",
          "text": [
            "2016_04_07_08_48_35FrontColor_red.avi\n",
            "2016_04_07_07_13_38FrontColor_red.avi\n",
            "2016_04_07_07_09_58FrontColor_red.avi\n",
            "2016_04_07_08_45_44FrontColor_red.avi\n",
            "2016_04_07_14_37_58FrontColor_red.avi\n",
            "2016_04_07_16_06_09FrontColor_red.avi\n",
            "2016_04_07_08_01_11FrontColor_red.avi\n",
            "2016_04_07_07_32_42FrontColor_red.avi\n",
            "2016_04_07_16_03_49FrontColor_red.avi\n"
          ],
          "name": "stdout"
        }
      ]
    },
    {
      "cell_type": "code",
      "metadata": {
        "id": "_PbdcqJPTC5w",
        "colab_type": "code",
        "outputId": "30885d1e-4483-4bb6-dd5a-faed2cf2337b",
        "colab": {
          "base_uri": "https://localhost:8080/",
          "height": 224
        }
      },
      "source": [
        "for path in paths:\n",
        "  print(path)\n",
        "  mot_tracker = Sort()\n",
        "  # capture = cv2.VideoCapture('2016_04_07_08_15_14BackColor.avi')\n",
        "  capture = cv2.VideoCapture(directory+ubication+amount+path)\n",
        "\n",
        "  ret, frame = capture.read()\n",
        "  frame_height,frame_width,_ = frame.shape\n",
        "  fourcc = cv2.VideoWriter_fourcc(*'XVID')\n",
        "  out = cv2.VideoWriter(output_directory+ubication+amount+path,fourcc, 20, (frame_width,frame_height))\n",
        "\n",
        "  mem = {}\n",
        "  ret = True\n",
        "  count = 0\n",
        "  counter = 0\n",
        "  disponible = 20\n",
        "  previous = {}\n",
        "  while(ret):\n",
        "    ret, frame = capture.read()\n",
        "    if(ret):\n",
        "      # frame = cv2.cvtColor(frame, cv2.COLOR_BGR2RGB)\n",
        "      result = tfnet.return_predict(frame)\n",
        "\n",
        "      dets = []\n",
        "      if len(result) > 0:\n",
        "          # loop over the indexes we are keeping\n",
        "          for res in result:\n",
        "            if(res['label']=='person'):\n",
        "              (x1,y1)=(res['topleft']['x'], res['topleft']['y'])\n",
        "              (x2,y2)=(res['bottomright']['x'], res['bottomright']['y'])\n",
        "              dets.append([x1, y1, x2, y2, res['confidence']])\n",
        "      dets = np.asarray(dets)\n",
        "      tracks = mot_tracker.update(dets)\n",
        "\n",
        "      boxes = []\n",
        "      indexIDs = []\n",
        "      c = []\n",
        "      previous = mem.copy()\n",
        "      mem = {}\n",
        "      for track in tracks:\n",
        "        boxes.append([track[0], track[1], track[2], track[3]])\n",
        "        indexIDs.append(int(track[4]))\n",
        "        mem[indexIDs[-1]] = boxes[-1]\n",
        "\n",
        "      if len(boxes) > 0:\n",
        "        i = int(0)\n",
        "        for box in boxes:\n",
        "          # extract the bounding box coordinates\n",
        "          (x, y) = (int(box[0]), int(box[1]))\n",
        "          (w, h) = (int(box[2]), int(box[3]))\n",
        "\n",
        "          color = [int(c) for c in COLORS[indexIDs[i] % len(COLORS)]]\n",
        "          cv2.rectangle(frame, (x, y), (w, h), color, 2)\n",
        "          # print(indexIDs)\n",
        "          if indexIDs[i] in previous:\n",
        "            previous_box = previous[indexIDs[i]]\n",
        "            (x2, y2) = (int(previous_box[0]), int(previous_box[1]))\n",
        "            (w2, h2) = (int(previous_box[2]), int(previous_box[3]))\n",
        "            p0 = (int(x + (w-x)/2), int(y + (h-y)/2))\n",
        "            p1 = (int(x2 + (w2-x2)/2), int(y2 + (h2-y2)/2))\n",
        "            cv2.line(frame, p0, p1, color, 10)\n",
        "            if intersect(p0, p1, line[0], line[1]):\n",
        "              # print(i)\n",
        "              # print(np.sum(np.square(np.array(p1)-np.array(p0))))\n",
        "              # print(indexIDs[i])\n",
        "              # if(np.sum(np.square(np.array(p1)-np.array(p0)))>25):\n",
        "                counter += 1\n",
        "                if ubication == 'back/':\n",
        "                    disponible+= 1\n",
        "                if ubication == 'front/':\n",
        "                    disponible-= 1\n",
        "\n",
        "          # text = \"{}: {:.4f}\".format(LABELS[classIDs[i]], confidences[i])\n",
        "          # text = \"{}\".format(indexIDs[i])\n",
        "          # cv2.putText(frame, text, (x, y - 5), cv2.FONT_HERSHEY_SIMPLEX, 0.5, color, 2)\n",
        "          i += 1\n",
        "\n",
        "      # draw line\n",
        "      cv2.line(frame, line[0], line[1], (0, 255, 0), 2)\n",
        "\n",
        "      # draw counter\n",
        "      if ubication == 'back/':\n",
        "          cv2.putText(frame, \"Salidas: \"+str(counter), (210,200), cv2.FONT_HERSHEY_SIMPLEX, 0.5, (0, 255, 0), 1)\n",
        "          cv2.putText(frame, \"Sitios disponibles: \"+str(disponible), (150,225), cv2.FONT_HERSHEY_SIMPLEX, 0.5, (0, 255, 0), 1)\n",
        "      if ubication == 'front/':\n",
        "          cv2.putText(frame, \"Entradas: \"+str(counter), (210,200), cv2.FONT_HERSHEY_SIMPLEX, 0.5, (0, 255, 0), 1)\n",
        "          cv2.putText(frame, \"Sitios disponibles: \"+str(disponible), (150,225), cv2.FONT_HERSHEY_SIMPLEX, 0.5, (0, 255, 0), 1)\n",
        "      # counter += 1\n",
        "      if disponible < 0:\n",
        "          cv2.putText(frame, \"Sin Lugares disponibles\", (120,120), cv2.FONT_HERSHEY_SIMPLEX, 0.5, (0, 0, 255), 1)\n",
        "\n",
        "\n",
        "      # if(len(result)>0):\n",
        "        # frame = bounbox(frame,result)\n",
        "      out.write(frame)\n",
        "      # if(count%10==0):\n",
        "        # plt.imshow(frame)\n",
        "        # plt.show()\n",
        "      count+=1\n",
        "\n",
        "    # if(count>50):\n",
        "      # ret = False\n",
        "\n",
        "  capture.release()\n",
        "  out.release()"
      ],
      "execution_count": 23,
      "outputs": [
        {
          "output_type": "stream",
          "text": [
            "2016_04_07_07_30_45BackColor.avi_red.avi\n"
          ],
          "name": "stdout"
        },
        {
          "output_type": "stream",
          "text": [
            "/usr/local/lib/python3.6/dist-packages/sklearn/utils/linear_assignment_.py:128: FutureWarning: The linear_assignment function is deprecated in 0.21 and will be removed from 0.23. Use scipy.optimize.linear_sum_assignment instead.\n",
            "  FutureWarning)\n"
          ],
          "name": "stderr"
        },
        {
          "output_type": "stream",
          "text": [
            "2016_04_07_07_48_06BackColor.avi_red.avi\n",
            "2016_04_07_08_15_14BackColor.avi_red.avi\n",
            "2016_04_07_07_32_39BackColor.avi_red.avi\n",
            "2016_04_07_08_04_57BackColor.avi_red.avi\n",
            "2016_04_07_07_17_06BackColor.avi_red.avi\n",
            "2016_04_07_07_15_47BackColor.avi_red.avi\n",
            "2016_04_07_08_17_51BackColor.avi_red.avi\n",
            "2016_04_07_07_13_40BackColor.avi_red.avi\n"
          ],
          "name": "stdout"
        }
      ]
    },
    {
      "cell_type": "code",
      "metadata": {
        "id": "SdYa1GzQU3Wy",
        "colab_type": "code",
        "colab": {}
      },
      "source": [
        ""
      ],
      "execution_count": 0,
      "outputs": []
    }
  ]
}